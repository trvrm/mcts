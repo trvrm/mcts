{
 "cells": [
  {
   "cell_type": "markdown",
   "id": "personal-wagon",
   "metadata": {},
   "source": [
    "# Idea 3: playouts"
   ]
  },
  {
   "cell_type": "markdown",
   "id": "looking-jimmy",
   "metadata": {},
   "source": [
    "Here's one way we could evaluate a game position knowing nothing than what we've already specified:\n",
    "\n",
    "Take a given position P\n",
    "\n",
    "Take the list of available moves, pick one at random.\n",
    "\n",
    "Continue until the game is finished.\n",
    "\n",
    "Every time we do this, make a note of how many playouts we've done for position P and how many games were won."
   ]
  },
  {
   "cell_type": "markdown",
   "id": "distant-blocking",
   "metadata": {},
   "source": [
    "<img src=\"data:image/png;base64,iVBORw0KGgoAAAANSUhEUgAAAOEAAADhCAMAAAAJbSJIAAAAhFBMVEX///9AQEAAAACGhobj4+Ps7Ow+Pj48PDwsLCzy8vI5OTnBwcFNTU0oKCjo6OiJiYmzs7MxMTF/f3/5+fne3t52dnbJyckbGxtjY2M1NTWQkJAiIiIQEBDS0tJHR0fDw8OlpaWYmJgXFxdpaWmtra2fn5/Ozs5ycnJXV1e4uLhnZ2dTU1OlVi9IAAAQL0lEQVR4nN1d54KiMBCWqDRFpSggoGBnff/3O5WSoGRoIeh9P+52XcAMSabPZDTijsnZIDCuheUDUTzhP9gWmMzRyZpmWJCY0GC9EOy3t/F06PFXYouuXW5fGEeF1VB6wXSuoY6PUJyQxUh6QqCLWqcpfGHlMBhKPwh8WZLX3Z9jCd2f0QsC5N0Q0gsfzS61WIcZbCwT/zqZsx0ZI0zQ5fHvGVn5J2N08DxfG1v0m14w/x4XHtA8zIlcbXsaZCegZLZW+SQufeEF1f+DJ1LQXteJuh9lH0lfKDWWq/SH+yz9AQkZJHQC7rTwhbqWzvdi1+NQ20GR859SeWHigQuCDTCgjU9ciOLkw/Wmz9G2gYM32zLdRDoxcEGjk6iQr0JAyRIw7V6H2xwWKcNQopacZXLkNn2h3qUCiYvXh+G5z/E2h0zqWvEt+d8WCiM3S+8cFTbic9Pek0896vVD4I27e8mSLY5cC6m3nwvvAiUmxqW7dsQQfvFX65D8vyFJlABlbGmXvIp7lRzliGX89oGTig7Lc/OBq5C6GSIRU5juwKnUx1hbQVE/PsktDAOp2eKDZOJosvMyGnOtaDyD7uCJ2+dyiozsp8Xa91xV1dGx4in7uy+rqiojzER94HKeCMrGjgi1axMZ66jGppquxtd1tMAffIt6WsrWZ0zMA/krDP5TuWjWWahd1lcYwxT1atLVnfGCE7B4SjcYe8ofriGDpysag4d0w1Sk/cWkq2kNEIEyhgd2C+qfzkzUrgOLh3TABnI8IRY+7JlRfU2fAK24jcviK4RBHRphCP55x0LtGtbxVmGIL5hIjOuFxVN6+m4jqrigFoZzaNRYP4iF2lWxF3pEDR5wYqJ2DeXQ2Nfh44iFoT6UQ6OWLA6YbKL5INHhmvrUfVV9TSWmH14EDjC9etcpTCTGEA6NY127Zjxm8XX8JYZ1q30pYqF2rZhI1ibQ6wu61U86NOJlg4ttFmoXb4dGIz+fVWQ2Zjv57XB1gW/fndwwiAQS00APOGHlmpscH9e5a8xDcYSSAxS9+prC9blDw0SvkJukozVMo4Ve8QBVs8Pso4iFZK2Jxgtmm7kCcJRJ9UPojlse8JDlTC7xc4G32PSZQ+OaRTGeERjoMYXId5h8xs+hoTVnFXGqdkVk6Nu902+Yi8SFh1QY8srQaCV8tcStWgya6nQ/VqiRF/oJw+Hl0Gjl38skhqOSI0d0SUku0zxEzseh0VIJPiYzbxZGLtIn5VKYbTm9m4d6+hkOrYfMBT5BJXNThhN5oZhmEPFwaLQ2Rs8p61xoLkEh3WU+ionIt5DZanbvDg3QoaCAcjJ3aKz9PIEGNB4nQs5u3MyUufw1GGwrQE6h9UPPAvSOfW4zWw7Sn0SqqGJPr2RbfU6kjgME857VU0o49AXn+cahfAQBi5lpeNRteV092mA5tw+ygVW8vm0MQPtdHZJ1R9c3raopqwUmXhEqAkDYe+mOAZwWc2gR14XQq8tmTGd9QaZTA/rxSUPd08BRr9op4JzZZsqKTXdRPWShbHecggvqNVUK2OVOJgHckH7RU4gf5Grzl44NcuUe3cMmsEDyZFIVSPNJmJGG3Cut+AljS/6cYu0jfaf3uBEVgIt4OYXAa8gUFHSLTnGCGRV7EpsEs8hGbo+5tWwoPOidOKqBmLiYywGtUr3mKnX9Zl6sT4hVOYBdUIfT6IBWg3Z2d5Uk7FOr6SgtLN9v4kmmYNWnQFx2lPiosIKnNaWGMin4Z8ZdlzkESGvTqrU2Aa8Ba7t7WCL+utLc21815COfeDX9KqaA5h3X0Lyzv1k3332Zt3KFWyKWvWT1H/LN17OZD/nZ/p4CAwFLSMpuHmPr3Yckh7LDHrfMG9C7q0YGltUzJAEQOMsKokTCaSoDsiXwCTeGn2bkrvt2t5UmdWcwQY0RJS5TUyaLgDz6HAZFn1XCbTi4TEsS8+shSmtf50WPKXXbFgu+xDSPlYPbu2ncKb8vdbWcPHLgMl0+lvqOuYQuPgpk6uGY2r6FEieJnp+5KBZNpTKIT/ippVe/xCGsAjGeExm40NLdzymEGLep88jKtUj2Ie8AxnwmKPTTGeQWBm6RFhHnikhOoYrAGBZ+FbqXlW5wq01okEuTAQeZVuihzYiqjIyK97RGqihKri2HHb63LRq/yy0RC7UMQZobcXX8YbPeCU5EfBXHlJqm+0FhkxbFs86rIU+7MbAKeVdeNPq24BfTE2dNvEE2CymmMCneaAC1/s46VWWiLuJzFFdxEe5pwhMgU+QNcKq3Gem+rOsegr2gA6R6X2tn0IKusbOfGYsILMkcIF2/rq09hUoupiruLOFClucgJRfnmpnsgG5mkUa8ClE4TNlMrfLOCyAppsWUmZB+5QC9XDZjx7le/xzHqJBSUGBbJnPXICfdhHs/nq0YZsJCiedQpmgIhDOLqWsewEt5lyCeDsV5sQB/GVRG6pIE6gDHrVV+xA6B98k6Ylo8aQ2E7QtdlmTIMOLaPEK5/ZUKpqVaJtYnYDk3plD0IbOBazn3UqfpJ6WkCyH0MCfdh5InQFqPybEkn7oYX/hcvvsKm+KOtKe65sCigF9bBUuvskBPdrG/ApAfm2ByCk+XCnWMWyWJ6Tg1fAiGRAQYzz9VDRRp9Zz5090al1b8kOtidqhvw168MPnhyiRlgoukmKjNxhraT9ZhMXFdtAwhNIJ5nTfeCevddCTjaVdW67k7B3IAMliR49rzCPMeHtWxZ61NRHKyu+UK6eSKZFUURL2Kte4F35Ue4l/DOnj/Lds2h7b6xEZO7xzn7cxEcE9N53k7Mz2zFMFwLAsshC7ZoJH3ENVTnYhoQ8x1TybmZ/Zu34n5a6C7Th2Yx1tgkyYgoKXGpcUV/ba/DA/d7WpLJWcGKJAJygpk+nVdXCCDtAH2Bxzz9emvrLTIqU/XxfR+ZbYDzih1p+l0j+dboVoiA/tsJWxILP3LyvXFTV1gwDtyt9qpnib25rpY+axDIJaABB0y4sldmHW87s11Ech9NC+IERgE2OU5RDii3RObUW51bKQ22KrAyg/Qi0RJxqH9nlwXW6qTojuU+5HOvYI7Qsg7YlV20cvhAbHdryIfaJAEUkj6zT6ChUGlk6I7TjW1CEVlv1emwq3ZQzfbv7k4d5azZoLTEGsIos2cvT56Qs0cWpHvuZIoipKqVebFFLGAihVeUK49cPOomfowtcl+8m7Dt7MGnWfW9doDN980dDigQswILlcugeDM4lUZTufrPOpDWpkVIfR3hMV++WBrhDJskL46PfFOYRz0ZA+OEa1RbjkM/Y1CqZnwmqLKvcgWC81vtrVPhzcK5WYq5AwJGtfsn60qNez4KxfykwWxYftHV9Ndrn2tdGEnU9sdl8IUyVxt+dCM0ThIdeTKHvQMEejys3NTs2WzUn1dVSVJ1Q+gKlbydeg6ff3Hr1F3iOSNMo1tt5nSPTmNr39HI2x2l3LLdHs2XelrYZ0Kwxix81zQsCWWSr/1WSTk3KBYNpSLTREXavP+uLVfI96lcmsoGZvA8orGdeVZZcxQWC0BErp5gWkwHf+NtSy5UfgWTDih6qLH5og+G2Lwo/Aj08HI2qMxw6yslcWAFI4WUAuu5pi4uzLP55AUPrX/OSt3rHklMmOVsYaybGb+FFrbLeFEOTNqXHAml3z47PaoplosP16aUnhCsn7wMI2Pd989w35T0CKMxK5MSw55U5im0ZEy2dLfGXxDLASXdDst8/DL61feFK5Sa8Ejq1ti1NABV4BR1Ob3uVWZyCd+FCbFENss2bOYObNFba3x03vtHXZ9JEVTY271EymFuVFbNGcfilwbR3iA3uMf+SvMztDjTWGIm6+82abBQW66nqb3z+4fOIDmJpPLj8JkHwZEMPqdoBMqz5qlYVzChVfy+/N5U0i845IeQQZc0FrAqlSS/uURwixfgTuFBvYulST2LOY13RyBXa4NYceOncpc7hQSVeSHsn23QTWC+4pD0Whx1rqURbu5Uzha55NIcWaeK+2qLdUqwR0gclbNn0Iz5zUyJcD8UOQgN0cMvYGMQjzHBncKcV6SRpWAlk4tobNkFxpy2uSC8JIMQGGeWwZ3vi1NdjOPFZxo8jArJI9MpR6CwmdPwucihYOJ2xKDPaqWJhNHdwpikh+FZJGu8uyTK1TwkwfDLG7U/YeKVgfDUPiAVcPXFngob3UwCb12DvrBKKyH0/PsiblzVxHy7HYWFj8K2zVEWfiiIErihy1SH99OYS7DW8eQvp7C9JQDubXD6vspHJ29ci29Jn6AwpEuCg3DoyR+gcKND2XfV2H9AxSOZLVDbeAvzOHDnuqQ5spvDltJ/ASTLukG/CjsUkfcpYbyJ+Zw5FdQaMX0MN1PcJqKRkMbHdlIp3Hb/4BC41XqI9OSn36fwmPqA6blzfw8hXks7cOFnuLXKbzk1Wi0BuY/IfEBCnGSrU+h5MfnkAjE/Kf7EDfXkWiq629TaOGaUKp7+Te0NhqFON4qUFWmdT8JdCXog0IiykO1Pn5jDmmFrHk8VKTXKfCjsGUD8hdoXcZyCgHj47cp3OrVrsbfpjDpp66COVW/TeEoRLaNgKrY0c9TOJquqprK8pMWXSR+l36GR251QV1OoutCYf0uvV3RpZN7Fwr5dZDfdsiC7ECh1UfrhnJcwvb3dqAQOA2TOTpsiA4U8luko5HR/m2WlhnUwplfcd4zAaP1ra0pNHm1e0zQfhJbU3jnWST7QOt2RW0pHPdXIleOS9t2Pi0pjPqtcyzDOWx3XzsKr/wJfIj9dkUHbSjc2/z7qz9xaiXaChROt/NdWHXHRODbm5vAos5Xb1ZFMbYjWGKEdFGqKrPv2qiwG/Z+RVTetJHnF47VJihMW1eDp3WwaFTYDZEGahrOy/viEwoCptBJPTMynYsEjBoVdoL5B5RyZfn2MtZHcgq3WSyN2pAXbPXFE8ApAEHmqsetTLL+uxY+TI1ystMSzALnC2pPM1w4lDexzCi8502H9LDs1lXPfdKagvK+Fzjckvl2UgoD3LCmLB4KnQ4xECh7hqAw5bophVdcUfR5lpfidCnT7A2lfM/BZ8CmTahTConKu4/ZimSelmATlLTHi3Ef1TT9IKHQwov0PSW6UsYOik/9A9copgwloXCWU/7WmHAiDqai1cNi9zbAVU6Kmoj9hMJ8bsVCP0dzzaxtQX/YvzUszzuppjV2CYWbbG4LsbRwIBuiKV5tx3MoGTuV/l6/JxSmyo5I6qQXO+Q4yk4wjySzz5SXtBVvykvHj09Fjwh5s+wlzQGF01cs/5VIkpa3ZTrNFqEdUbY1hjrqfiXIE3TMNTocsmLt0nMh2PeS5gHyOCdzn4cGSyisPm/nS6HcyhS5DwrrnbfzpShT5N4prHvezrfi9CHhihTOmJwZOyyMN4/cndDrmp6386V488gJOY81rz+gotXDxiYUOZQd5RN6LLuDDY1zrsgFCL3OrNj/jopWDw9FLlmRti4g5Nw4NM3kDkty4kvo24Kkan6HGPI3w4r+duJufoyGN5H+AfSn3zduSssXAAAAAElFTkSuQmCC\">"
   ]
  },
  {
   "cell_type": "markdown",
   "id": "undefined-metallic",
   "metadata": {},
   "source": [
    "So in a position with, say, 5 possible movements, we could do the following:\n",
    "\n",
    "* get the state that would be achieved by playing the move\n",
    "* run, say, 10 playouts from that position\n",
    "* record how many playouts lead to a win\n",
    "* choose the move that leads to the game state with the most wins."
   ]
  },
  {
   "cell_type": "code",
   "execution_count": null,
   "id": "legislative-campus",
   "metadata": {},
   "outputs": [],
   "source": []
  }
 ],
 "metadata": {
  "kernelspec": {
   "display_name": "Python 3",
   "language": "python",
   "name": "python3"
  },
  "language_info": {
   "codemirror_mode": {
    "name": "ipython",
    "version": 3
   },
   "file_extension": ".py",
   "mimetype": "text/x-python",
   "name": "python",
   "nbconvert_exporter": "python",
   "pygments_lexer": "ipython3",
   "version": "3.9.3"
  }
 },
 "nbformat": 4,
 "nbformat_minor": 5
}
