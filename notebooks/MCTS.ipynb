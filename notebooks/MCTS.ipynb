{
 "cells": [
  {
   "cell_type": "code",
   "execution_count": 1,
   "metadata": {},
   "outputs": [],
   "source": [
    "from typing import List\n",
    "\n",
    "from tictactoe import State, Result, Player, playout, Command, other_player, pick_move_by_playouts\n",
    "from math import sqrt, log\n",
    "import random\n",
    "import time\n",
    "import numpy as np"
   ]
  },
  {
   "cell_type": "markdown",
   "metadata": {},
   "source": [
    "'root' is current game state\n",
    "\n",
    "'leaf' is any node that has a potential child from which no playout has been run."
   ]
  },
  {
   "cell_type": "markdown",
   "metadata": {},
   "source": [
    "### Data structure\n",
    "\n",
    "We build up a tree. \n",
    "Each node has:\n",
    "* a game state\n",
    "* possibly some child states\n",
    "* a current ratio of wins *for the current state's player* versus total playouts down this path"
   ]
  },
  {
   "cell_type": "markdown",
   "metadata": {},
   "source": [
    "### Selection\n",
    "So start at the root and choose a leaf. \n",
    "\n",
    "(How we do this is all about the balance between exploration and exploitation) \n",
    "Building this may be the hard bit."
   ]
  },
  {
   "cell_type": "markdown",
   "metadata": {},
   "source": [
    "### Expansion\n",
    "\n",
    "if the leaf state is not a finished game:\n",
    "* pick a valid command\n",
    "* create a new child state by applying that command"
   ]
  },
  {
   "cell_type": "markdown",
   "metadata": {},
   "source": [
    "### Simulation\n",
    "* do a playout from this state (in other systems this is replaced be e.g. neural net driven eval function)\n"
   ]
  },
  {
   "cell_type": "markdown",
   "metadata": {},
   "source": [
    "### Back propagation\n",
    "Update the win/loss ratio in this node and all parent nodes.\n",
    "\n",
    "(This presumably means knowledge of 'parent' somehow in the data structure in addition to 'children')"
   ]
  },
  {
   "cell_type": "code",
   "execution_count": 2,
   "metadata": {},
   "outputs": [],
   "source": [
    "\n",
    "class MCTSException(Exception):\n",
    "    def __init__(self, node):\n",
    "        self.node=node\n",
    "        \n",
    "        \n",
    "class Node:\n",
    "    'State is immutable, nodes are not'\n",
    "    def __init__(self,state,parent=None, command=None):\n",
    "        assert parent is not self\n",
    "        if parent is None: \n",
    "            assert command is None\n",
    "\n",
    "        self.command=command # the command that got us here, might be useful\n",
    "        self.parent=parent\n",
    "        self.state=state\n",
    "        # we may want this to be a set?\n",
    "        self.children:List[Node]=[]\n",
    "        self.playouts=0\n",
    "        self.wins=0\n",
    "        \n",
    "        self.depth = 0 if self.parent is None else 1+self.parent.depth\n",
    "\n",
    "    def __repr__(self):\n",
    "        ratio=self.ratio\n",
    "        if ratio is not None:\n",
    "            ratio=round(ratio,2)\n",
    "        return f\"Node(depth={self.depth},wins={self.wins},playouts={self.playouts}, ratio={ratio}, command={self.command})\"\n",
    "    \n",
    "    @property\n",
    "    def is_leaf(self):\n",
    "        \"'leaf' is any node that has a potential child from which no playout has been run.\"\n",
    "        if len(self.children)<len(self.state.commands):\n",
    "            return True\n",
    "        if any(node.playouts==0 for node in self.children):\n",
    "            assert 0, \"Does this ever happen?\"\n",
    "            return True\n",
    "        return False\n",
    "\n",
    "    def size(self):\n",
    "        return 1 + sum(child.size() for child in self.children)\n",
    "        \n",
    "    @property\n",
    "    def ratio(self)->float:\n",
    "        if self.wins==0:return 0\n",
    "        return self.wins/self.playouts\n",
    "    \n",
    "\n",
    "    def tree(self):\n",
    "        return {\n",
    "            \"command\":self.command,\n",
    "            \"playouts\":self.playouts,\n",
    "            \"wins\":self.wins,\n",
    "            \"children\":[child.tree() for child in self.children]\n",
    "        }\n",
    "def select(node:Node)->Node:\n",
    "    '''\n",
    "    given a node return a node that is a leaf.\n",
    "    Implement explore vs exploit here!\n",
    "    \n",
    "    If this node is a leaf we return it, otherwise we pick a child \n",
    "    and call select on it\n",
    "    '''\n",
    "    if node.is_leaf:\n",
    "        return node\n",
    "    \n",
    "    # ok, I'm not a leaf. Therefore the number of \n",
    "    # children I have is equal to the number of legal moves\n",
    "    assert len(node.children)==len(node.state.commands)\n",
    "\n",
    "    \n",
    "    # we can't go down any further, but this node can't be expanded.\n",
    "    if len(node.state.commands)==0:\n",
    "        assert node.state.result!=Result.INPROGRESS\n",
    "        assert len(node.children)==0\n",
    "        return node\n",
    "    \n",
    "    \n",
    "    for child in node.children:\n",
    "        assert child.parent is node\n",
    "    \n",
    "    scores=[uct_score(child) for child in node.children]\n",
    "    index=scores.index(max(scores))\n",
    "    \n",
    "    return select(node.children[index])\n",
    "    \n",
    "def uct_score(node):\n",
    "    \n",
    "    #choose in each node of the game tree the move for which the expression UCT has the highest value\n",
    "    s_i = node.playouts\n",
    "    s_p = node.parent.playouts\n",
    "    assert node.parent is not None, \"UCT requires node has a parent\"\n",
    "    assert s_p>0, \"How come parent hasn't had any playouts?\"\n",
    "    w_i = node.wins\n",
    "    c = sqrt(2) # exploration parameter\n",
    "    \n",
    "    #https://medium.com/@quasimik/monte-carlo-tree-search-applied-to-letterpress-34f41c86e238\n",
    "    return w_i/s_i + c * sqrt(log(s_p)/s_i)\n",
    "    \n",
    "\n",
    "def expand(node)->Node:\n",
    "    'create a new child state from this node'\n",
    "    \n",
    "    if node.state.result!=Result.INPROGRESS:\n",
    "        # can't really expand any more, so we'll just\n",
    "        # backprop the value of the finished game\n",
    "        return node\n",
    "    \n",
    "    \n",
    "    assert len(node.state.commands)>0\n",
    "    assert node.is_leaf\n",
    "    assert len(node.children)< len(node.state.commands)\n",
    "    \n",
    "    # pick a command that hasn't been used already\n",
    "    possible=set(node.state.commands)              # available legal commands\n",
    "    used=set(child.command for child in node.children) # commands that we've already expanded into the tree\n",
    "    \n",
    "    available = list(possible-used)\n",
    "    command = random.choice(available)\n",
    "    \n",
    "    child = Node(\n",
    "        state = node.state.applyCommand(command),\n",
    "        parent=node,\n",
    "        command=command\n",
    "    )\n",
    "    node.children.append(child)\n",
    "    \n",
    "    return child\n",
    "    \n",
    "def backprop(node,result):\n",
    "    \n",
    "    \"\"\" node.state.player is the player to play, so the player who has just played the move\n",
    "    is the one we care about\n",
    "    \n",
    "    \"\"\"\n",
    "    assert result in (Result.PLAYER1,Result.PLAYER2,Result.DRAW)\n",
    "    \n",
    "    # the player who just played the move that got us to this state\n",
    "    player = other_player(node.state.player)\n",
    "    \n",
    "    if (result==Result.PLAYER1 and player==Player.ONE):\n",
    "        node.wins+=1\n",
    "        \n",
    "    if (result==Result.PLAYER2 and player==Player.TWO):\n",
    "        node.wins+=1\n",
    "    \n",
    "    if (result==Result.DRAW):\n",
    "        node.wins+=0.5\n",
    "    \n",
    "    node.playouts+=1\n",
    "\n",
    "    if node.parent is not None:\n",
    "        backprop(node.parent, result)\n",
    "        \n",
    "def mcts(root):\n",
    "    leaf=select(root)\n",
    "    c=expand(leaf)\n",
    "    result =playout(c.state)\n",
    "    backprop(c,result)"
   ]
  },
  {
   "cell_type": "code",
   "execution_count": 3,
   "metadata": {},
   "outputs": [],
   "source": [
    "def best(root):\n",
    "    '''\n",
    "    Wikipedia says \n",
    "    \"the move with the most simulations made (i.e. the highest denominator) is chosen as the final answer.\"\n",
    "    \n",
    "    Is that right?  do we want the best scoring move, or the most explored?\n",
    "    '''\n",
    "    if len(root.children)==0:\n",
    "        return None # we haven't explored any commands from this node\n",
    "    return max(root.children,key = lambda n:n.playouts).command\n"
   ]
  },
  {
   "cell_type": "markdown",
   "metadata": {},
   "source": [
    "The REPL will work best if we can re-use already explored nodes."
   ]
  },
  {
   "cell_type": "code",
   "execution_count": 4,
   "metadata": {},
   "outputs": [],
   "source": [
    "def get_path(root):\n",
    "    \"pick a random path for analysis\"\n",
    "    path=[]\n",
    "    path.append(root)\n",
    "    while root.children:\n",
    "        root = random.choice(root.children)\n",
    "        path.append(root)   \n",
    "    return path"
   ]
  },
  {
   "cell_type": "code",
   "execution_count": 5,
   "metadata": {},
   "outputs": [],
   "source": [
    "\n",
    "def show(node):\n",
    "    print(node)\n",
    "    print(node.state)\n",
    "    print(node.state.result)\n",
    "    print(f\"Player is {node.state.player}, best command is {best(node)} \")\n",
    "    print('========='*8)"
   ]
  },
  {
   "cell_type": "code",
   "execution_count": 6,
   "metadata": {},
   "outputs": [],
   "source": [
    "root=Node(State())\n",
    "for i in range(1000):\n",
    "    mcts(root)"
   ]
  },
  {
   "cell_type": "code",
   "execution_count": 7,
   "metadata": {},
   "outputs": [
    {
     "name": "stdout",
     "output_type": "stream",
     "text": [
      "Node(depth=0,wins=333.0,playouts=1000, ratio=0.33, command=None)\n",
      " | | \n",
      "-----\n",
      " | | \n",
      "-----\n",
      " | |     player ONE\n",
      "Result.INPROGRESS\n",
      "Player is ONE, best command is Command(j=1, i=1) \n",
      "========================================================================\n",
      "Node(depth=1,wins=34.0,playouts=63, ratio=0.54, command=Command(j=0, i=2))\n",
      " | |O\n",
      "-----\n",
      " | | \n",
      "-----\n",
      " | |     player TWO\n",
      "Result.INPROGRESS\n",
      "Player is TWO, best command is Command(j=2, i=0) \n",
      "========================================================================\n",
      "Node(depth=2,wins=5.5,playouts=10, ratio=0.55, command=Command(j=0, i=0))\n",
      "X| |O\n",
      "-----\n",
      " | | \n",
      "-----\n",
      " | |     player ONE\n",
      "Result.INPROGRESS\n",
      "Player is ONE, best command is Command(j=0, i=1) \n",
      "========================================================================\n",
      "Node(depth=3,wins=0,playouts=1, ratio=0, command=Command(j=2, i=2))\n",
      "X| |O\n",
      "-----\n",
      " | | \n",
      "-----\n",
      " | |O    player TWO\n",
      "Result.INPROGRESS\n",
      "Player is TWO, best command is None \n",
      "========================================================================\n"
     ]
    }
   ],
   "source": [
    "path=get_path(root)\n",
    "for node in path:\n",
    "    show(node)"
   ]
  },
  {
   "cell_type": "markdown",
   "metadata": {},
   "source": [
    "---\n",
    "### Compare MCTS with random playouts"
   ]
  },
  {
   "cell_type": "code",
   "execution_count": 8,
   "metadata": {},
   "outputs": [
    {
     "data": {
      "text/plain": [
       "O| |X\n",
       "-----\n",
       " |O|O\n",
       "-----\n",
       " | |X    player TWO"
      ]
     },
     "execution_count": 8,
     "metadata": {},
     "output_type": "execute_result"
    }
   ],
   "source": [
    "s=State(m=np.array([\n",
    "    [1,0,-1],\n",
    "    [0,1,1],\n",
    "    [0,0,-1],\n",
    "]), player=Player.TWO)\n",
    "s"
   ]
  },
  {
   "cell_type": "code",
   "execution_count": 9,
   "metadata": {},
   "outputs": [
    {
     "data": {
      "text/plain": [
       "Command(j=2, i=1)"
      ]
     },
     "execution_count": 9,
     "metadata": {},
     "output_type": "execute_result"
    }
   ],
   "source": [
    "pick_move_by_playouts(s,1)"
   ]
  },
  {
   "cell_type": "code",
   "execution_count": 10,
   "metadata": {},
   "outputs": [],
   "source": [
    "def pick_move_by_mcts(root,seconds):\n",
    "    assert isinstance(root, Node)\n",
    "    end=time.time()+seconds\n",
    "    while time.time()<end:\n",
    "        mcts(root)\n",
    "    return best(root)\n",
    "    \n",
    "    "
   ]
  },
  {
   "cell_type": "code",
   "execution_count": 11,
   "metadata": {},
   "outputs": [],
   "source": [
    "root=Node(s)"
   ]
  },
  {
   "cell_type": "code",
   "execution_count": 12,
   "metadata": {},
   "outputs": [
    {
     "data": {
      "text/plain": [
       "1"
      ]
     },
     "execution_count": 12,
     "metadata": {},
     "output_type": "execute_result"
    }
   ],
   "source": [
    "root.size()"
   ]
  },
  {
   "cell_type": "code",
   "execution_count": 13,
   "metadata": {},
   "outputs": [
    {
     "data": {
      "text/plain": [
       "Node(depth=0,wins=0,playouts=0, ratio=0, command=None)"
      ]
     },
     "execution_count": 13,
     "metadata": {},
     "output_type": "execute_result"
    }
   ],
   "source": [
    "root"
   ]
  },
  {
   "cell_type": "code",
   "execution_count": 14,
   "metadata": {},
   "outputs": [
    {
     "data": {
      "text/plain": [
       "Command(j=1, i=0)"
      ]
     },
     "execution_count": 14,
     "metadata": {},
     "output_type": "execute_result"
    }
   ],
   "source": [
    "pick_move_by_mcts(root, 1)"
   ]
  },
  {
   "cell_type": "code",
   "execution_count": 15,
   "metadata": {},
   "outputs": [
    {
     "data": {
      "text/plain": [
       "Node(depth=0,wins=12099.0,playouts=23810, ratio=0.51, command=None)"
      ]
     },
     "execution_count": 15,
     "metadata": {},
     "output_type": "execute_result"
    }
   ],
   "source": [
    "root"
   ]
  },
  {
   "cell_type": "code",
   "execution_count": 16,
   "metadata": {},
   "outputs": [
    {
     "data": {
      "text/plain": [
       "50"
      ]
     },
     "execution_count": 16,
     "metadata": {},
     "output_type": "execute_result"
    }
   ],
   "source": [
    "root.size()"
   ]
  },
  {
   "cell_type": "markdown",
   "metadata": {},
   "source": [
    "Which is exactly what we're expecting: it assumes good play on the part of the opponent, not random play."
   ]
  },
  {
   "cell_type": "code",
   "execution_count": 18,
   "metadata": {},
   "outputs": [
    {
     "data": {
      "text/plain": [
       "Node(depth=0,wins=12406.0,playouts=24423, command=None)"
      ]
     },
     "execution_count": 18,
     "metadata": {},
     "output_type": "execute_result"
    }
   ],
   "source": [
    "root"
   ]
  },
  {
   "cell_type": "code",
   "execution_count": 20,
   "metadata": {},
   "outputs": [
    {
     "data": {
      "text/plain": [
       "Node(depth=0,wins=24757.5,playouts=49082, command=None)"
      ]
     },
     "execution_count": 20,
     "metadata": {},
     "output_type": "execute_result"
    }
   ],
   "source": [
    "root"
   ]
  },
  {
   "cell_type": "code",
   "execution_count": 35,
   "metadata": {},
   "outputs": [
    {
     "data": {
      "text/plain": [
       "[Node(depth=1,wins=36840.0,playouts=73828, command=Command(j=1, i=0)),\n",
       " Node(depth=1,wins=15.0,playouts=136, command=Command(j=2, i=1)),\n",
       " Node(depth=1,wins=5,playouts=103, command=Command(j=2, i=0)),\n",
       " Node(depth=1,wins=15.0,playouts=136, command=Command(j=0, i=1))]"
      ]
     },
     "execution_count": 35,
     "metadata": {},
     "output_type": "execute_result"
    }
   ],
   "source": [
    "root.children"
   ]
  },
  {
   "cell_type": "code",
   "execution_count": 36,
   "metadata": {},
   "outputs": [
    {
     "data": {
      "text/plain": [
       "24"
      ]
     },
     "execution_count": 36,
     "metadata": {},
     "output_type": "execute_result"
    }
   ],
   "source": [
    "4*3*2*1"
   ]
  },
  {
   "cell_type": "code",
   "execution_count": 67,
   "metadata": {},
   "outputs": [
    {
     "data": {
      "text/plain": [
       "Node(depth=4,wins=5765.5,playouts=11531, command=Command(j=0, i=1))"
      ]
     },
     "execution_count": 67,
     "metadata": {},
     "output_type": "execute_result"
    }
   ],
   "source": [
    "root.children[0].children[0].children[0].children[0]#.state\n"
   ]
  },
  {
   "cell_type": "code",
   "execution_count": 68,
   "metadata": {},
   "outputs": [
    {
     "data": {
      "text/plain": [
       "50"
      ]
     },
     "execution_count": 68,
     "metadata": {},
     "output_type": "execute_result"
    }
   ],
   "source": [
    "4 + 4*3 + 4+3*2 + 4*3*2*1"
   ]
  },
  {
   "cell_type": "code",
   "execution_count": 18,
   "metadata": {},
   "outputs": [],
   "source": [
    "a=np.array([])"
   ]
  },
  {
   "cell_type": "code",
   "execution_count": 19,
   "metadata": {},
   "outputs": [
    {
     "data": {
      "text/plain": [
       "numpy.ndarray"
      ]
     },
     "execution_count": 19,
     "metadata": {},
     "output_type": "execute_result"
    }
   ],
   "source": [
    "type(a)"
   ]
  },
  {
   "cell_type": "code",
   "execution_count": null,
   "metadata": {},
   "outputs": [],
   "source": []
  },
  {
   "cell_type": "code",
   "execution_count": 7,
   "metadata": {},
   "outputs": [],
   "source": [
    "def get_command():\n",
    "    s=input(\"COMMAND> \")\n",
    "    j, i = s.strip().split(' ')\n",
    "    return Command(int(j), int(i))"
   ]
  },
  {
   "cell_type": "code",
   "execution_count": 8,
   "metadata": {},
   "outputs": [],
   "source": [
    "def apply_command(root:Node, command)->Node:\n",
    "    # Either get child node that has this command or \n",
    "    # create a new root\n",
    "    for child in root.children:\n",
    "        if child.command==command:\n",
    "            return child\n",
    "    else:\n",
    "        state=root.state.applyCommand(command)\n",
    "        \n",
    "        # Entirely new tree: no parent, no parent command etc.\n",
    "        return Node(state)"
   ]
  },
  {
   "cell_type": "code",
   "execution_count": 9,
   "metadata": {},
   "outputs": [],
   "source": [
    "def pick_move(root,seconds):\n",
    "    end=time.time()+seconds\n",
    "    while time.time()<end:\n",
    "        mcts(root)\n",
    "    return best(root)\n",
    "    "
   ]
  },
  {
   "cell_type": "code",
   "execution_count": null,
   "metadata": {},
   "outputs": [
    {
     "name": "stdout",
     "output_type": "stream",
     "text": [
      " | | \n",
      "-----\n",
      " | | \n",
      "-----\n",
      " | | \n",
      "COMMAND> 0 0\n",
      "O| | \n",
      "-----\n",
      " |X| \n",
      "-----\n",
      " | | \n",
      "\n",
      "COMMAND> 2 2\n",
      "O|X| \n",
      "-----\n",
      " |X| \n",
      "-----\n",
      " | |O\n",
      "\n",
      "COMMAND> 2 1\n",
      "O|X| \n",
      "-----\n",
      " |X| \n",
      "-----\n",
      "X|O|O\n",
      "\n",
      "COMMAND> 0 2\n",
      "O|X|O\n",
      "-----\n",
      " |X|X\n",
      "-----\n",
      "X|O|O\n",
      "\n"
     ]
    }
   ],
   "source": [
    "s=State()\n",
    "root = Node(s)\n",
    "print(root.state)\n",
    "while root.state.result==Result.INPROGRESS:\n",
    "    human = get_command()\n",
    "    root = apply_command(root, human)\n",
    "    \n",
    "    if root.state.result==Result.INPROGRESS:\n",
    "        computer = pick_move(root,0.5)\n",
    "        root= apply_command(root, computer)\n",
    "    print(root.state)\n",
    "    print(\"\")\n",
    "print(f\"GAME OVER, result is {root.state.result}\")\n"
   ]
  },
  {
   "cell_type": "code",
   "execution_count": null,
   "metadata": {},
   "outputs": [],
   "source": []
  },
  {
   "cell_type": "code",
   "execution_count": 188,
   "metadata": {},
   "outputs": [
    {
     "data": {
      "text/plain": [
       "Command(j=0, i=1)"
      ]
     },
     "execution_count": 188,
     "metadata": {},
     "output_type": "execute_result"
    }
   ],
   "source": []
  },
  {
   "cell_type": "code",
   "execution_count": null,
   "metadata": {},
   "outputs": [],
   "source": []
  }
 ],
 "metadata": {
  "kernelspec": {
   "display_name": "Python 3",
   "language": "python",
   "name": "python3"
  },
  "language_info": {
   "codemirror_mode": {
    "name": "ipython",
    "version": 3
   },
   "file_extension": ".py",
   "mimetype": "text/x-python",
   "name": "python",
   "nbconvert_exporter": "python",
   "pygments_lexer": "ipython3",
   "version": "3.9.2"
  }
 },
 "nbformat": 4,
 "nbformat_minor": 4
}
