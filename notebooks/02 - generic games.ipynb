{
 "cells": [
  {
   "cell_type": "markdown",
   "id": "going-pillow",
   "metadata": {},
   "source": [
    "# Idea 2: generic games"
   ]
  },
  {
   "cell_type": "markdown",
   "id": "acceptable-prairie",
   "metadata": {},
   "source": [
    "A Python object is orderable if it provides a 'less than' operator. Armed with this, an algorithm can sort a collection of objects without knowing anything more about them.\n"
   ]
  },
  {
   "cell_type": "markdown",
   "id": "intermediate-monthly",
   "metadata": {},
   "source": [
    "In the same vein, let's say that a game state is something that:\n",
    "\n",
    "* Has a current player\n",
    "* Has a current result - one of 'won/lost/drawn/in progress'\n",
    "* Can provide a list of legal commands\n",
    "* Can produce a new state when given a legal command"
   ]
  },
  {
   "cell_type": "markdown",
   "id": "molecular-reaction",
   "metadata": {},
   "source": [
    "```python\n",
    "class Result(str, Enum):\n",
    "    PLAYER1 = \"PLAYER 1 WINS\"\n",
    "    PLAYER2 = \"PLAYER 2 WINS\"\n",
    "    DRAW = \"DRAW\"\n",
    "    INPROGRESS = \"IN PROGRESS\"\n",
    "\n",
    "\n",
    "class Player(str, Enum):\n",
    "    ONE = \"ONE\"\n",
    "    TWO = \"TWO\"\n",
    "\n",
    "    \n",
    "class StateProtocol(Protocol):\n",
    "    def apply(self, command: Any) -> \"StateProtocol\":\n",
    "        ...\n",
    "\n",
    "    player: Player\n",
    "    result: Result\n",
    "    commands: List\n",
    "\n",
    "```"
   ]
  },
  {
   "cell_type": "markdown",
   "id": "preceding-school",
   "metadata": {},
   "source": [
    "Any number of popular board games can be described with this model: Chess, Go, Connect-4, tic-tac-toe etc."
   ]
  },
  {
   "cell_type": "markdown",
   "id": "innovative-hormone",
   "metadata": {},
   "source": [
    "Armed with this, we could create an algorithm that could play any of these games perfectly, from any position:"
   ]
  },
  {
   "cell_type": "markdown",
   "id": "crucial-senegal",
   "metadata": {},
   "source": [
    "* For a given state, for every possible command, call `apply` and get a child state\n",
    "* Repeat step 1 for each of those states\n",
    "* Keep repeating until you've built out a tree of every possible game position reachable from this state\n",
    "* Choose the move that leads to the highest win/loss ratio.\n"
   ]
  },
  {
   "cell_type": "markdown",
   "id": "driven-exclusion",
   "metadata": {},
   "source": [
    "This works fine for very small games, but rapidly becomes untenable for games with many possible moves.\n"
   ]
  },
  {
   "cell_type": "markdown",
   "id": "manufactured-progress",
   "metadata": {},
   "source": [
    "Chess probably has more than $10^{50}$ possible game states, and Go has a game tree complexity of $10^{360}$"
   ]
  },
  {
   "cell_type": "markdown",
   "id": "adjacent-rouge",
   "metadata": {},
   "source": [
    "So we need a way of reducing drastically how many positions we actually look at.\n",
    "\n",
    "One approach is minimax trees and certain improvements such as alpha-beta pruning. These work by only navigating a certain depth down the tree, but that introduces two problems\n",
    "\n",
    "* Performance - adding another layer of depth can make the algorithm take N times longer to run, where N is the typical number of moves available.\n",
    "* Evaluation - it only works if you have SOME way of evaluating/scoring a given position. We're interested in an algorithm that knows *nothing* about the game in question."
   ]
  }
 ],
 "metadata": {
  "kernelspec": {
   "display_name": "Python 3",
   "language": "python",
   "name": "python3"
  },
  "language_info": {
   "codemirror_mode": {
    "name": "ipython",
    "version": 3
   },
   "file_extension": ".py",
   "mimetype": "text/x-python",
   "name": "python",
   "nbconvert_exporter": "python",
   "pygments_lexer": "ipython3",
   "version": "3.9.3"
  }
 },
 "nbformat": 4,
 "nbformat_minor": 5
}
