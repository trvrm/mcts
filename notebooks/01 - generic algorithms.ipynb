{
 "cells": [
  {
   "cell_type": "markdown",
   "id": "comprehensive-thanks",
   "metadata": {},
   "source": [
    "# Idea 1: generic algorithms"
   ]
  },
  {
   "cell_type": "code",
   "execution_count": null,
   "id": "breeding-emission",
   "metadata": {},
   "outputs": [],
   "source": [
    "1 < 2"
   ]
  },
  {
   "cell_type": "code",
   "execution_count": null,
   "id": "creative-argument",
   "metadata": {},
   "outputs": [],
   "source": [
    "sorted(\"HELLO WORLD\")"
   ]
  },
  {
   "cell_type": "code",
   "execution_count": null,
   "id": "chicken-windows",
   "metadata": {},
   "outputs": [],
   "source": [
    "class Thing:\n",
    "    def __init__(self, name):\n",
    "        self.name=name\n",
    "        \n",
    "    def __repr__(self):\n",
    "        return f\"Thing {self.name}\"        "
   ]
  },
  {
   "cell_type": "code",
   "execution_count": null,
   "id": "desirable-reception",
   "metadata": {},
   "outputs": [],
   "source": [
    "\n",
    "sorted([Thing('1'),Thing('2')])"
   ]
  },
  {
   "cell_type": "code",
   "execution_count": null,
   "id": "confidential-watson",
   "metadata": {},
   "outputs": [],
   "source": [
    "Thing('1')< Thing('2')"
   ]
  },
  {
   "cell_type": "code",
   "execution_count": null,
   "id": "graduate-toilet",
   "metadata": {},
   "outputs": [],
   "source": [
    "class Thing:\n",
    "    def __init__(self, name):\n",
    "        self.name=name\n",
    "    def __repr__(self):\n",
    "        return f\"Thing {self.name}\"\n",
    "    def __lt__(self, other):\n",
    "        return self.name<other.name\n",
    "    "
   ]
  },
  {
   "cell_type": "code",
   "execution_count": null,
   "id": "raised-blink",
   "metadata": {},
   "outputs": [],
   "source": [
    "Thing('1')< Thing('2')"
   ]
  },
  {
   "cell_type": "code",
   "execution_count": null,
   "id": "processed-lambda",
   "metadata": {},
   "outputs": [],
   "source": [
    "sorted([Thing('1'),Thing('2')])"
   ]
  }
 ],
 "metadata": {
  "kernelspec": {
   "display_name": "Python 3",
   "language": "python",
   "name": "python3"
  },
  "language_info": {
   "codemirror_mode": {
    "name": "ipython",
    "version": 3
   },
   "file_extension": ".py",
   "mimetype": "text/x-python",
   "name": "python",
   "nbconvert_exporter": "python",
   "pygments_lexer": "ipython3",
   "version": "3.9.3"
  }
 },
 "nbformat": 4,
 "nbformat_minor": 5
}
