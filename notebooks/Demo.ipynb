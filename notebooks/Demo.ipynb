{
 "cells": [
  {
   "cell_type": "code",
   "execution_count": 1,
   "id": "mighty-shareware",
   "metadata": {},
   "outputs": [],
   "source": [
    "\n",
    "from mcts.node import Node, mcts, learn\n",
    "from mcts.tictactoe import State, Result"
   ]
  },
  {
   "cell_type": "code",
   "execution_count": 2,
   "id": "international-constraint",
   "metadata": {},
   "outputs": [],
   "source": [
    "def apply_command(node:Node, command)->Node:\n",
    "    # Either get child node that has this command or \n",
    "    # create a new child\n",
    "    for child in node.children:\n",
    "        if child.state.command==command:\n",
    "            return child\n",
    "    else: \n",
    "        child = Node(\n",
    "            state=self.state.apply(command),\n",
    "            parent=node,\n",
    "        )\n",
    "        root.children.append(child)\n",
    "        return child\n",
    "        "
   ]
  },
  {
   "cell_type": "code",
   "execution_count": 9,
   "id": "expressed-assault",
   "metadata": {},
   "outputs": [
    {
     "name": "stdout",
     "output_type": "stream",
     "text": [
      "Node(depth=0,wins=0.0,playouts=0, ratio=0, children=0)\n"
     ]
    }
   ],
   "source": [
    "root=Node(State())\n",
    "print(root)"
   ]
  },
  {
   "cell_type": "code",
   "execution_count": 6,
   "id": "fuzzy-religious",
   "metadata": {},
   "outputs": [],
   "source": [
    "def go(root, seconds):\n",
    "    node=root\n",
    "    while node.state.result==Result.INPROGRESS:\n",
    "        #command=pick_move(node,seconds)\n",
    "        learn(node, seconds)\n",
    "        command=node.best().state.command\n",
    "        node=apply_command(node, command)\n",
    "\n",
    "    print(node.state)\n",
    "    print(f\"{node.state.result}\")\n",
    "    print(node)"
   ]
  },
  {
   "cell_type": "code",
   "execution_count": 7,
   "id": "anonymous-shield",
   "metadata": {},
   "outputs": [
    {
     "name": "stdout",
     "output_type": "stream",
     "text": [
      "Node(depth=0,wins=0.0,playouts=0, ratio=0, children=0)\n",
      "X|X|O\n",
      "-----\n",
      "O|O|X\n",
      "-----\n",
      "X|O|O    player TWO\n",
      "DRAW\n",
      "Node(depth=9,wins=5926.5,playouts=11853, ratio=0.5, children=0)\n"
     ]
    }
   ],
   "source": [
    "print(root)\n",
    "go(root,.1)"
   ]
  },
  {
   "cell_type": "code",
   "execution_count": 8,
   "id": "sensitive-hearts",
   "metadata": {},
   "outputs": [
    {
     "name": "stdout",
     "output_type": "stream",
     "text": [
      "Node(depth=0,wins=9902.5,playouts=21203, ratio=0.47, children=9)\n",
      "X|X|O\n",
      "-----\n",
      "O|O|X\n",
      "-----\n",
      "X|O|O    player TWO\n",
      "DRAW\n",
      "Node(depth=9,wins=26350.5,playouts=52701, ratio=0.5, children=0)\n"
     ]
    }
   ],
   "source": [
    "print(root)\n",
    "go(root,.4)"
   ]
  },
  {
   "cell_type": "markdown",
   "id": "young-gregory",
   "metadata": {},
   "source": [
    "All this means we can quite easily have the system learning in the background"
   ]
  },
  {
   "cell_type": "code",
   "execution_count": null,
   "id": "educational-twist",
   "metadata": {},
   "outputs": [],
   "source": []
  }
 ],
 "metadata": {
  "kernelspec": {
   "display_name": "Python 3",
   "language": "python",
   "name": "python3"
  },
  "language_info": {
   "codemirror_mode": {
    "name": "ipython",
    "version": 3
   },
   "file_extension": ".py",
   "mimetype": "text/x-python",
   "name": "python",
   "nbconvert_exporter": "python",
   "pygments_lexer": "ipython3",
   "version": "3.9.2"
  }
 },
 "nbformat": 4,
 "nbformat_minor": 5
}
