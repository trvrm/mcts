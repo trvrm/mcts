{
 "cells": [
  {
   "cell_type": "markdown",
   "id": "grave-brook",
   "metadata": {},
   "source": [
    "# Idea 4 - tree sampling"
   ]
  },
  {
   "cell_type": "markdown",
   "id": "fabulous-veteran",
   "metadata": {},
   "source": [
    "So we already have the 'monte carlo' bit - now we need the 'tree search' bit."
   ]
  },
  {
   "cell_type": "markdown",
   "id": "adverse-mounting",
   "metadata": {},
   "source": [
    "<img src=\"https://upload.wikimedia.org/wikipedia/commons/thumb/2/21/MCTS-steps.svg/1600px-MCTS-steps.svg.png\">"
   ]
  },
  {
   "cell_type": "markdown",
   "id": "overall-needle",
   "metadata": {},
   "source": [
    "Given that we can't reasonably search the *entire* game tree space, we need a way of searching just a bit of it, and increasing that search as we have time."
   ]
  },
  {
   "cell_type": "markdown",
   "id": "polished-range",
   "metadata": {},
   "source": [
    "We maintain a tree of game states that we have eed.\n",
    "\n",
    "### Selection\n",
    "This is the most subtle step, so we'll come back to it. For now, let's say we have a method for picking SOME leaf on the current tree.\n",
    "\n",
    "A leaf is a node that has at least some legal moves that we haven't looked at yet.\n",
    "\n",
    "### Expansion\n",
    "\n",
    "We take that leaf, pick one of the commands that we haven't yet explored, and apply it to get a new game state. In doing so we grow the tree by one node\n",
    "\n",
    "\n",
    "### Simulation\n",
    "\n",
    "As discussed before, we do a playout here and note whether it leads to a win or a loss\n",
    "\n",
    "### Backpropagation\n",
    "We now work our way back up the tree, incrementing as we go, so once we're done every node has a record of \n",
    "* how many playouts have happened from this node or below it\n",
    "* how many of those led to a win for the player who's turn it is at this node."
   ]
  },
  {
   "cell_type": "markdown",
   "id": "smooth-pierre",
   "metadata": {},
   "source": [
    "###  Selection part 2"
   ]
  },
  {
   "cell_type": "markdown",
   "id": "ordered-booth",
   "metadata": {},
   "source": [
    "When we're deciding how to navigate down the tree looking for a leaf to expand, we make our decisions based on the this formula:\n",
    "\n",
    "\n",
    "$\\frac{w_i}{n_i} + c \\sqrt{\\frac{ln N_i}{n_i}}$\n",
    "\n",
    "\n",
    "This has two elements - one part gives a higher score for nodes that tend to produce winning playouts, and the other gives a higher score for nodes that haven't been explored much relative to their siblings.\n",
    "\n",
    "$\\frac{w_i}{n_i}$ is the ratio of wins to total playouts at this node\n",
    "\n",
    "$\\frac{ln N_i}{n_i} $ compares the total playouts for the *parent* node to total playouts for *this* node.\n",
    "\n",
    "(i.e. it will be higher if the this node has had relatively few playouts compared to its sibling.)"
   ]
  },
  {
   "cell_type": "markdown",
   "id": "static-westminster",
   "metadata": {},
   "source": [
    "And finally $c$ is a tunable parameter that can be used to select an emphasis between exploration and exploitation. In my code I set it to $\\sqrt{2}$"
   ]
  },
  {
   "cell_type": "code",
   "execution_count": null,
   "id": "encouraging-agreement",
   "metadata": {},
   "outputs": [],
   "source": []
  }
 ],
 "metadata": {
  "kernelspec": {
   "display_name": "Python 3",
   "language": "python",
   "name": "python3"
  },
  "language_info": {
   "codemirror_mode": {
    "name": "ipython",
    "version": 3
   },
   "file_extension": ".py",
   "mimetype": "text/x-python",
   "name": "python",
   "nbconvert_exporter": "python",
   "pygments_lexer": "ipython3",
   "version": "3.9.3"
  }
 },
 "nbformat": 4,
 "nbformat_minor": 5
}
